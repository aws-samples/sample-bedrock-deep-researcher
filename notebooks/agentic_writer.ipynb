{
 "cells": [
  {
   "cell_type": "markdown",
   "metadata": {},
   "source": [
    "### Testing Notebook to directly run the Agent without the Streamlit UI\n"
   ]
  },
  {
   "cell_type": "code",
   "execution_count": 2,
   "metadata": {},
   "outputs": [
    {
     "data": {
      "text/plain": [
       "True"
      ]
     },
     "execution_count": 2,
     "metadata": {},
     "output_type": "execute_result"
    }
   ],
   "source": [
    "import sys\n",
    "\n",
    "# setting path\n",
    "sys.path.append('../')\n",
    "\n",
    "import logging\n",
    "import os\n",
    "import uuid\n",
    "\n",
    "from dotenv import load_dotenv\n",
    "\n",
    "from agentic_writer.graph import AgenticWriter\n",
    "\n",
    "logging.basicConfig(\n",
    "    level=logging.INFO,\n",
    "    force=True,\n",
    "    format=\"%(levelname)s:%(name)s:%(filename)s:%(lineno)d:%(message)s\",\n",
    ")\n",
    "\n",
    "logger = logging.getLogger(__name__)\n",
    "\n",
    "\n",
    "load_dotenv()"
   ]
  },
  {
   "cell_type": "code",
   "execution_count": null,
   "metadata": {},
   "outputs": [],
   "source": []
  },
  {
   "cell_type": "code",
   "execution_count": null,
   "metadata": {},
   "outputs": [],
   "source": [
    "\n",
    "config = {\"configurable\": {\"thread_id\": str(uuid.uuid4()),\n",
    "                            \"max_search_depth\": 1,\n",
    "                            \"planner_model\": \"us.anthropic.claude-3-5-haiku-20241022-v1:0\",\n",
    "                            # \"writer_model\": \"us.anthropic.claude-3-5-sonnet-20241022-v2:0\",\n",
    "                            \"writer_model\": \"us.anthropic.claude-3-5-haiku-20241022-v1:0\",\n",
    "\n",
    "                            }}\n",
    "\n",
    "graph = AgenticWriter(config, tavily_api_key=os.getenv(\"TAVILY_API_KEY\"))\n",
    "\n",
    "topic = \"How to implement aws S3 presigned url post\"\n",
    "\n",
    "reponse = await graph.start(topic)"
   ]
  },
  {
   "cell_type": "code",
   "execution_count": null,
   "metadata": {},
   "outputs": [],
   "source": [
    "from IPython.display import Image, display\n",
    "\n",
    "display(Image(graph.graph.get_graph(xray=1).draw_mermaid_png()))"
   ]
  },
  {
   "cell_type": "code",
   "execution_count": null,
   "metadata": {},
   "outputs": [],
   "source": [
    "state = graph.get_state()\n",
    "\n",
    "state.values['title']\n",
    "state.values['sections']"
   ]
  },
  {
   "cell_type": "code",
   "execution_count": null,
   "metadata": {},
   "outputs": [],
   "source": [
    "feedback = input(\"Feedback: \")\n",
    "\n",
    "if feedback == \"\" or feedback.lower() == \"true\":\n",
    "    feedback = True\n",
    "\n",
    "response = await graph.feedback(feedback)\n"
   ]
  },
  {
   "cell_type": "code",
   "execution_count": null,
   "metadata": {},
   "outputs": [],
   "source": [
    "response"
   ]
  },
  {
   "cell_type": "code",
   "execution_count": null,
   "metadata": {},
   "outputs": [],
   "source": [
    "state = graph.get_state()\n",
    "\n",
    "state.values['sections']"
   ]
  },
  {
   "cell_type": "code",
   "execution_count": null,
   "metadata": {},
   "outputs": [],
   "source": [
    "state.values['completed_sections']"
   ]
  },
  {
   "cell_type": "code",
   "execution_count": null,
   "metadata": {},
   "outputs": [],
   "source": [
    "print(state.values['report_sections_from_research'])\n"
   ]
  },
  {
   "cell_type": "code",
   "execution_count": null,
   "metadata": {},
   "outputs": [],
   "source": [
    "from IPython.display import Markdown\n",
    "state = graph.get_state()\n",
    "\n",
    "Markdown(state.values[\"final_report\"])\n"
   ]
  }
 ],
 "metadata": {
  "kernelspec": {
   "display_name": "agentic-writer-v6PMjlbt-py3.12",
   "language": "python",
   "name": "python3"
  },
  "language_info": {
   "codemirror_mode": {
    "name": "ipython",
    "version": 3
   },
   "file_extension": ".py",
   "mimetype": "text/x-python",
   "name": "python",
   "nbconvert_exporter": "python",
   "pygments_lexer": "ipython3",
   "version": "3.12.8"
  }
 },
 "nbformat": 4,
 "nbformat_minor": 2
}
